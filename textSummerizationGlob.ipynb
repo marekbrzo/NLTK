{
 "cells": [
  {
   "cell_type": "markdown",
   "metadata": {},
   "source": [
    "# Data prepration in python"
   ]
  },
  {
   "cell_type": "markdown",
   "metadata": {},
   "source": [
    "# Data reading"
   ]
  },
  {
   "cell_type": "code",
   "execution_count": 1,
   "metadata": {},
   "outputs": [],
   "source": [
    "import glob\n",
    "import gensim\n",
    "import numpy as np"
   ]
  },
  {
   "cell_type": "code",
   "execution_count": 2,
   "metadata": {},
   "outputs": [],
   "source": [
    "ff=glob.glob(\"/Users/atousa/Desktop/McMaster/BDA-102/Week4-TextMining/SportsArticles/Raw_data/*.txt\")"
   ]
  },
  {
   "cell_type": "code",
   "execution_count": 3,
   "metadata": {},
   "outputs": [
    {
     "data": {
      "text/plain": [
       "1000"
      ]
     },
     "execution_count": 3,
     "metadata": {},
     "output_type": "execute_result"
    }
   ],
   "source": [
    "len(ff)"
   ]
  },
  {
   "cell_type": "code",
   "execution_count": 13,
   "metadata": {},
   "outputs": [
    {
     "data": {
      "text/plain": [
       "'/Users/atousa/Desktop/McMaster/BDA-102/Week4-TextMining/SportsArticles/Raw_data/Text0001.txt'"
      ]
     },
     "execution_count": 13,
     "metadata": {},
     "output_type": "execute_result"
    }
   ],
   "source": [
    "ff[0]"
   ]
  },
  {
   "cell_type": "code",
   "execution_count": 4,
   "metadata": {},
   "outputs": [],
   "source": [
    "raw_doc=[]\n",
    "for file in ff:\n",
    "    try:\n",
    "        f=open(file,\"r\")\n",
    "        raw_doc.append(f.read())\n",
    "    except:\n",
    "        pass"
   ]
  },
  {
   "cell_type": "code",
   "execution_count": 5,
   "metadata": {},
   "outputs": [
    {
     "data": {
      "text/plain": [
       "866"
      ]
     },
     "execution_count": 5,
     "metadata": {},
     "output_type": "execute_result"
    }
   ],
   "source": [
    "len(raw_doc)"
   ]
  },
  {
   "cell_type": "code",
   "execution_count": 6,
   "metadata": {},
   "outputs": [],
   "source": [
    "clean_texts=[]\n",
    "for text in raw_doc:\n",
    "    #This lowercases, tokenizes, \n",
    "    clean_texts.append(gensim.utils.simple_preprocess(text))"
   ]
  },
  {
   "cell_type": "code",
   "execution_count": 7,
   "metadata": {},
   "outputs": [
    {
     "data": {
      "text/plain": [
       "['finalists',\n",
       " 'in',\n",
       " 'the',\n",
       " 'apertura',\n",
       " 'play',\n",
       " 'offs',\n",
       " 'toluca',\n",
       " 'had',\n",
       " 'drawn',\n",
       " 'their']"
      ]
     },
     "execution_count": 7,
     "metadata": {},
     "output_type": "execute_result"
    }
   ],
   "source": [
    "clean_texts[0][:10]"
   ]
  },
  {
   "cell_type": "code",
   "execution_count": 8,
   "metadata": {},
   "outputs": [
    {
     "name": "stdout",
     "output_type": "stream",
     "text": [
      "22771\n"
     ]
    }
   ],
   "source": [
    "Dictionary=gensim.corpora.Dictionary(clean_texts)\n",
    "print(len(Dictionary))"
   ]
  },
  {
   "cell_type": "code",
   "execution_count": 42,
   "metadata": {},
   "outputs": [
    {
     "name": "stdout",
     "output_type": "stream",
     "text": [
      "0 against\n",
      "1 ahead\n",
      "2 aldo\n",
      "3 all\n",
      "4 also\n",
      "5 apertura\n",
      "6 arizala\n",
      "7 benitez\n",
      "8 britos\n",
      "9 but\n"
     ]
    }
   ],
   "source": [
    "for i in range(10):\n",
    "    print(i,Dictionary[i])"
   ]
  },
  {
   "cell_type": "code",
   "execution_count": 11,
   "metadata": {},
   "outputs": [
    {
     "data": {
      "text/plain": [
       "5"
      ]
     },
     "execution_count": 11,
     "metadata": {},
     "output_type": "execute_result"
    }
   ],
   "source": [
    "Dictionary.token2id['apertura']"
   ]
  },
  {
   "cell_type": "code",
   "execution_count": 12,
   "metadata": {},
   "outputs": [
    {
     "data": {
      "text/plain": [
       "array(['finalists', 'in', 'the', 'apertura', 'play', 'offs', 'toluca',\n",
       "       'had', 'drawn', 'their', 'first', 'two', 'clausura', 'games',\n",
       "       'but', 'got', 'off', 'to', 'good', 'start', 'when', 'edgar',\n",
       "       'benitez', 'put', 'them', 'ahead', 'in', 'the', 'th', 'minute',\n",
       "       'matias', 'britos', 'levelled', 'minutes', 'later', 'but', 'lucas',\n",
       "       'silva', 'netted', 'minutes', 'from', 'the', 'end', 'to', 'ensure',\n",
       "       'the', 'visitors', 'took', 'all', 'three', 'points', 'franco',\n",
       "       'arizala', 'scored', 'minutes', 'from', 'time', 'to', 'ensure',\n",
       "       'jaguares', 'claimed', 'their', 'first', 'point', 'with', 'draw',\n",
       "       'against', 'monterrey', 'who', 'had', 'opened', 'the', 'scoring',\n",
       "       'through', 'aldo', 'de', 'nigris', 'hosts', 'jaguares', 'also',\n",
       "       'had', 'jorge', 'rodriguez', 'sent', 'off', 'in', 'the', 'closing',\n",
       "       'moments'], dtype='<U9')"
      ]
     },
     "execution_count": 12,
     "metadata": {},
     "output_type": "execute_result"
    }
   ],
   "source": [
    "import numpy as np\n",
    "np.array(clean_texts[0]).T"
   ]
  },
  {
   "cell_type": "markdown",
   "metadata": {},
   "source": [
    "Now we will create a corpus. A corpus is a list of bags of words. A bag-of-words representation for a document just lists the number of times each word occurs in the document."
   ]
  },
  {
   "cell_type": "code",
   "execution_count": 37,
   "metadata": {},
   "outputs": [
    {
     "name": "stdout",
     "output_type": "stream",
     "text": [
      "[(0, 1), (1, 1), (2, 1), (3, 1), (4, 1), (5, 1), (6, 1), (7, 1), (8, 1), (9, 2), (10, 1), (11, 1), (12, 1), (13, 1), (14, 1), (15, 1), (16, 1), (17, 1), (18, 2), (19, 1), (20, 2), (21, 1), (22, 2), (23, 1), (24, 1), (25, 1), (26, 3), (27, 1), (28, 3), (29, 2), (30, 1), (31, 1), (32, 1), (33, 1), (34, 1), (35, 1), (36, 3), (37, 1), (38, 1), (39, 1), (40, 1), (41, 2), (42, 1), (43, 1), (44, 1), (45, 1), (46, 1), (47, 1), (48, 1), (49, 1), (50, 1), (51, 1), (52, 1), (53, 1), (54, 1), (55, 6), (56, 2), (57, 1), (58, 1), (59, 1), (60, 1), (61, 3), (62, 1), (63, 1), (64, 1), (65, 1), (66, 1), (67, 1), (68, 1)]\n"
     ]
    }
   ],
   "source": [
    "corpus=[Dictionary.doc2bow(text) for text in clean_texts]\n",
    "print(corpus[0])"
   ]
  },
  {
   "cell_type": "code",
   "execution_count": 38,
   "metadata": {},
   "outputs": [
    {
     "name": "stdout",
     "output_type": "stream",
     "text": [
      "TfidfModel(num_docs=866, num_nnz=248622)\n"
     ]
    }
   ],
   "source": [
    "tf_idf=gensim.models.TfidfModel(corpus)\n",
    "print(tf_idf)"
   ]
  },
  {
   "cell_type": "code",
   "execution_count": 61,
   "metadata": {},
   "outputs": [],
   "source": [
    "ll=np.argsort(np.array([w[1] for w in tf_idf[corpus[0]]]))"
   ]
  },
  {
   "cell_type": "code",
   "execution_count": 63,
   "metadata": {},
   "outputs": [
    {
     "data": {
      "text/plain": [
       "array(['the', 'to', 'in', 'with', 'who', 'but', 'when', 'all', 'two',\n",
       "       'time', 'from', 'also', 'three', 'play', 'good', 'against',\n",
       "       'first', 'them', 'games', 'got', 'their', 'end', 'points', 'had',\n",
       "       'point', 'through', 'put', 'took', 'start', 'th', 'off', 'scored',\n",
       "       'later', 'ahead', 'minute', 'scoring', 'draw', 'sent', 'opened',\n",
       "       'de', 'moments', 'claimed', 'visitors', 'drawn', 'closing',\n",
       "       'benitez', 'hosts', 'silva', 'minutes', 'rodriguez', 'lucas',\n",
       "       'netted', 'edgar', 'offs', 'jorge', 'monterrey', 'levelled',\n",
       "       'finalists', 'aldo', 'toluca', 'nigris', 'clausura', 'franco',\n",
       "       'matias', 'britos', 'arizala', 'apertura', 'ensure', 'jaguares'],\n",
       "      dtype='<U9')"
      ]
     },
     "execution_count": 63,
     "metadata": {},
     "output_type": "execute_result"
    }
   ],
   "source": [
    "np.array([Dictionary[w] for w in ll]).T"
   ]
  },
  {
   "cell_type": "code",
   "execution_count": 74,
   "metadata": {},
   "outputs": [],
   "source": [
    "similarity_object=gensim.similarities.Similarity('/Users/atousa/Desktop/McMaster/BDA-102/data/SportsArticles/Raw_data/',tf_idf[corpus],num_features=len(Dictionary))"
   ]
  },
  {
   "cell_type": "code",
   "execution_count": 77,
   "metadata": {},
   "outputs": [
    {
     "data": {
      "text/plain": [
       "[(0, 1.0000001192092896), (783, 0.2790677547454834), (13, 0.15426906943321228)]"
      ]
     },
     "execution_count": 77,
     "metadata": {},
     "output_type": "execute_result"
    }
   ],
   "source": [
    "similarity_object.num_best = 3\n",
    "similarity_object[tf_idf[corpus[0]]]"
   ]
  },
  {
   "cell_type": "markdown",
   "metadata": {},
   "source": [
    "Now create a query document and convert it to tf-idf."
   ]
  },
  {
   "cell_type": "code",
   "execution_count": 93,
   "metadata": {},
   "outputs": [],
   "source": [
    "text=raw_doc[8]\n",
    "query_doc=gensim.utils.simple_preprocess(text)\n",
    "query_doc_bow=Dictionary.doc2bow(query_doc)\n",
    "query_doc_tf_idf=tf_idf[query_doc_bow]"
   ]
  },
  {
   "cell_type": "code",
   "execution_count": 94,
   "metadata": {},
   "outputs": [],
   "source": [
    "similarity_scores=list(similarity_object[query_doc_tf_idf])"
   ]
  },
  {
   "cell_type": "code",
   "execution_count": 97,
   "metadata": {},
   "outputs": [],
   "source": [
    "max_score=max(similarity_scores)"
   ]
  },
  {
   "cell_type": "code",
   "execution_count": 98,
   "metadata": {},
   "outputs": [
    {
     "name": "stdout",
     "output_type": "stream",
     "text": [
      "0.9999997\n"
     ]
    }
   ],
   "source": [
    "print(max_score)"
   ]
  },
  {
   "cell_type": "code",
   "execution_count": 99,
   "metadata": {},
   "outputs": [
    {
     "data": {
      "text/plain": [
       "8"
      ]
     },
     "execution_count": 99,
     "metadata": {},
     "output_type": "execute_result"
    }
   ],
   "source": [
    "similarity_scores.index(max_score)"
   ]
  },
  {
   "cell_type": "code",
   "execution_count": 100,
   "metadata": {},
   "outputs": [
    {
     "name": "stdout",
     "output_type": "stream",
     "text": [
      "0.9999997\n",
      "0.18975124\n"
     ]
    }
   ],
   "source": [
    "sorted_score=sorted(similarity_scores,reverse=True)\n",
    "print(sorted_score[0])\n",
    "print(sorted_score[1])"
   ]
  },
  {
   "cell_type": "code",
   "execution_count": 101,
   "metadata": {},
   "outputs": [
    {
     "data": {
      "text/plain": [
       "40"
      ]
     },
     "execution_count": 101,
     "metadata": {},
     "output_type": "execute_result"
    }
   ],
   "source": [
    "similarity_scores.index(sorted_score[1])"
   ]
  },
  {
   "cell_type": "code",
   "execution_count": 102,
   "metadata": {},
   "outputs": [
    {
     "data": {
      "text/plain": [
       "'Print\\nEurosport - Ben Foster earned five England caps before retiring from the international game\\nFoster has been in prime form for Albion during his 18 months at the Hawthorns and feels his performance in the 2-0 win at Liverpool last week was the best of his career.\\nBut he has never wavered from his decision to stop making himself available for his country just under two years ago when a Birmingham player. Clarke said: \"If you\\'re looking at a top-line goalkeeper, every mistake is analysed. If you go with England, it\\'s magnified 10 times.\"\\nHe continued: \"Ben decided he\\'d rather spend time with his family than be put under that stress and strain and we respect that. For us as a club, it\\'s good.\\n\"Ben likes to be out of the limelight. He likes to go out, do his training and play as well as he can for Albion.\\n\"He gets enough satisfaction from that to keep his career going forward.\"\\nClarke also assured midfielder Zoltan Gera, currently recovering from a cruciate ligament injury, not to be concerned about his future.\\nGera, who is set to return for pre-season training in July, is out of contract in the summer although Albion have a 12 month option in their favour.\\nClarke said: \"I don\\'t think Zoltan\\'s contract will be an issue and at the moment Zoltan\\'s recovery is the main thing.\\n\"If he\\'s with the squad during the first week of pre-season training, then we can start thinking about the contract.\"\\nThere are no comments yet\\nTop contributor with high quality and engaging posts in the last 14 days.\\nLearn more about this badge\\nYou on Yahoo! Eurosport\\n'"
      ]
     },
     "execution_count": 102,
     "metadata": {},
     "output_type": "execute_result"
    }
   ],
   "source": [
    "raw_doc[40]"
   ]
  },
  {
   "cell_type": "markdown",
   "metadata": {},
   "source": [
    "# Text Summerization"
   ]
  },
  {
   "cell_type": "code",
   "execution_count": 54,
   "metadata": {},
   "outputs": [],
   "source": [
    "from gensim.summarization import summarize\n",
    "from gensim.summarization import keywords"
   ]
  },
  {
   "cell_type": "code",
   "execution_count": 57,
   "metadata": {},
   "outputs": [
    {
     "name": "stdout",
     "output_type": "stream",
     "text": [
      "Eurosport - Ben Foster earned five England caps before retiring from the international game\n",
      "Foster has been in prime form for Albion during his 18 months at the Hawthorns and feels his performance in the 2-0 win at Liverpool last week was the best of his career.\n",
      "Gera, who is set to return for pre-season training in July, is out of contract in the summer although Albion have a 12 month option in their favour.\n",
      "\"If he's with the squad during the first week of pre-season training, then we can start thinking about the contract.\"\n"
     ]
    }
   ],
   "source": [
    "print(summarize(raw_doc[40],word_count=100))"
   ]
  }
 ],
 "metadata": {
  "kernelspec": {
   "display_name": "Python 3",
   "language": "python",
   "name": "python3"
  },
  "language_info": {
   "codemirror_mode": {
    "name": "ipython",
    "version": 3
   },
   "file_extension": ".py",
   "mimetype": "text/x-python",
   "name": "python",
   "nbconvert_exporter": "python",
   "pygments_lexer": "ipython3",
   "version": "3.6.7"
  }
 },
 "nbformat": 4,
 "nbformat_minor": 2
}
